{
  "nbformat": 4,
  "nbformat_minor": 0,
  "metadata": {
    "colab": {
      "provenance": [],
      "authorship_tag": "ABX9TyMjRxYrB3S3TPE8JMzTGcwg",
      "include_colab_link": true
    },
    "kernelspec": {
      "name": "python3",
      "display_name": "Python 3"
    },
    "language_info": {
      "name": "python"
    }
  },
  "cells": [
    {
      "cell_type": "markdown",
      "metadata": {
        "id": "view-in-github",
        "colab_type": "text"
      },
      "source": [
        "<a href=\"https://colab.research.google.com/github/DanielGardS/coursePython/blob/main/Numpy_1.ipynb\" target=\"_parent\"><img src=\"https://colab.research.google.com/assets/colab-badge.svg\" alt=\"Open In Colab\"/></a>"
      ]
    },
    {
      "cell_type": "code",
      "execution_count": 2,
      "metadata": {
        "id": "LhifeGfKROp5"
      },
      "outputs": [],
      "source": [
        "import numpy as np\n"
      ]
    },
    {
      "cell_type": "code",
      "source": [
        "url = 'https://gist.githubusercontent.com/ahcamachod/41b8a65c5e5b58125401deafb68af460/raw/f84320f69efa1cc3e86e1db054422cfa4869c63e/manzanas.csv'\n",
        "np.loadtxt(url, delimiter=',')"
      ],
      "metadata": {
        "colab": {
          "base_uri": "https://localhost:8080/",
          "height": 339
        },
        "id": "XBtS0VkIVm2b",
        "outputId": "7c91937d-d3bf-4fc6-906c-f0b8b163ee7e"
      },
      "execution_count": null,
      "outputs": [
        {
          "output_type": "error",
          "ename": "ValueError",
          "evalue": "could not convert string '' to float64 at row 0, column 1.",
          "traceback": [
            "\u001b[0;31m---------------------------------------------------------------------------\u001b[0m",
            "\u001b[0;31mValueError\u001b[0m                                Traceback (most recent call last)",
            "\u001b[0;32m<ipython-input-2-4ff0ada64ff0>\u001b[0m in \u001b[0;36m<cell line: 0>\u001b[0;34m()\u001b[0m\n\u001b[1;32m      1\u001b[0m \u001b[0murl\u001b[0m \u001b[0;34m=\u001b[0m \u001b[0;34m'https://gist.githubusercontent.com/ahcamachod/41b8a65c5e5b58125401deafb68af460/raw/f84320f69efa1cc3e86e1db054422cfa4869c63e/manzanas.csv'\u001b[0m\u001b[0;34m\u001b[0m\u001b[0;34m\u001b[0m\u001b[0m\n\u001b[0;32m----> 2\u001b[0;31m \u001b[0mnp\u001b[0m\u001b[0;34m.\u001b[0m\u001b[0mloadtxt\u001b[0m\u001b[0;34m(\u001b[0m\u001b[0murl\u001b[0m\u001b[0;34m,\u001b[0m \u001b[0mdelimiter\u001b[0m\u001b[0;34m=\u001b[0m\u001b[0;34m','\u001b[0m\u001b[0;34m)\u001b[0m\u001b[0;34m\u001b[0m\u001b[0;34m\u001b[0m\u001b[0m\n\u001b[0m",
            "\u001b[0;32m/usr/local/lib/python3.11/dist-packages/numpy/lib/_npyio_impl.py\u001b[0m in \u001b[0;36mloadtxt\u001b[0;34m(fname, dtype, comments, delimiter, converters, skiprows, usecols, unpack, ndmin, encoding, max_rows, quotechar, like)\u001b[0m\n\u001b[1;32m   1379\u001b[0m         \u001b[0mdelimiter\u001b[0m \u001b[0;34m=\u001b[0m \u001b[0mdelimiter\u001b[0m\u001b[0;34m.\u001b[0m\u001b[0mdecode\u001b[0m\u001b[0;34m(\u001b[0m\u001b[0;34m'latin1'\u001b[0m\u001b[0;34m)\u001b[0m\u001b[0;34m\u001b[0m\u001b[0;34m\u001b[0m\u001b[0m\n\u001b[1;32m   1380\u001b[0m \u001b[0;34m\u001b[0m\u001b[0m\n\u001b[0;32m-> 1381\u001b[0;31m     arr = _read(fname, dtype=dtype, comment=comment, delimiter=delimiter,\n\u001b[0m\u001b[1;32m   1382\u001b[0m                 \u001b[0mconverters\u001b[0m\u001b[0;34m=\u001b[0m\u001b[0mconverters\u001b[0m\u001b[0;34m,\u001b[0m \u001b[0mskiplines\u001b[0m\u001b[0;34m=\u001b[0m\u001b[0mskiprows\u001b[0m\u001b[0;34m,\u001b[0m \u001b[0musecols\u001b[0m\u001b[0;34m=\u001b[0m\u001b[0musecols\u001b[0m\u001b[0;34m,\u001b[0m\u001b[0;34m\u001b[0m\u001b[0;34m\u001b[0m\u001b[0m\n\u001b[1;32m   1383\u001b[0m                 \u001b[0munpack\u001b[0m\u001b[0;34m=\u001b[0m\u001b[0munpack\u001b[0m\u001b[0;34m,\u001b[0m \u001b[0mndmin\u001b[0m\u001b[0;34m=\u001b[0m\u001b[0mndmin\u001b[0m\u001b[0;34m,\u001b[0m \u001b[0mencoding\u001b[0m\u001b[0;34m=\u001b[0m\u001b[0mencoding\u001b[0m\u001b[0;34m,\u001b[0m\u001b[0;34m\u001b[0m\u001b[0;34m\u001b[0m\u001b[0m\n",
            "\u001b[0;32m/usr/local/lib/python3.11/dist-packages/numpy/lib/_npyio_impl.py\u001b[0m in \u001b[0;36m_read\u001b[0;34m(fname, delimiter, comment, quote, imaginary_unit, usecols, skiplines, max_rows, converters, ndmin, unpack, dtype, encoding)\u001b[0m\n\u001b[1;32m   1019\u001b[0m \u001b[0;34m\u001b[0m\u001b[0m\n\u001b[1;32m   1020\u001b[0m         \u001b[0;32mif\u001b[0m \u001b[0mread_dtype_via_object_chunks\u001b[0m \u001b[0;32mis\u001b[0m \u001b[0;32mNone\u001b[0m\u001b[0;34m:\u001b[0m\u001b[0;34m\u001b[0m\u001b[0;34m\u001b[0m\u001b[0m\n\u001b[0;32m-> 1021\u001b[0;31m             arr = _load_from_filelike(\n\u001b[0m\u001b[1;32m   1022\u001b[0m                 \u001b[0mdata\u001b[0m\u001b[0;34m,\u001b[0m \u001b[0mdelimiter\u001b[0m\u001b[0;34m=\u001b[0m\u001b[0mdelimiter\u001b[0m\u001b[0;34m,\u001b[0m \u001b[0mcomment\u001b[0m\u001b[0;34m=\u001b[0m\u001b[0mcomment\u001b[0m\u001b[0;34m,\u001b[0m \u001b[0mquote\u001b[0m\u001b[0;34m=\u001b[0m\u001b[0mquote\u001b[0m\u001b[0;34m,\u001b[0m\u001b[0;34m\u001b[0m\u001b[0;34m\u001b[0m\u001b[0m\n\u001b[1;32m   1023\u001b[0m                 \u001b[0mimaginary_unit\u001b[0m\u001b[0;34m=\u001b[0m\u001b[0mimaginary_unit\u001b[0m\u001b[0;34m,\u001b[0m\u001b[0;34m\u001b[0m\u001b[0;34m\u001b[0m\u001b[0m\n",
            "\u001b[0;31mValueError\u001b[0m: could not convert string '' to float64 at row 0, column 1."
          ]
        }
      ]
    },
    {
      "cell_type": "code",
      "source": [
        "#En el data set de las manzanas se puede ver que la primer columna es null además que en la siguientes esta el nombre de las ciudades\n",
        "#Como  no se ocupará es mejor crear un arreglo de los meses para iterar\n",
        "#12 *7 +3 #doce meses por siete años y tres meses total de 87 meses\n",
        "columnas=np.arange(1,88,1)\n",
        "#print(columnas)"
      ],
      "metadata": {
        "id": "sbKhqUqpXY7J"
      },
      "execution_count": 5,
      "outputs": []
    },
    {
      "cell_type": "code",
      "source": [
        "url = 'https://gist.githubusercontent.com/ahcamachod/41b8a65c5e5b58125401deafb68af460/raw/f84320f69efa1cc3e86e1db054422cfa4869c63e/manzanas.csv'\n",
        "datos = np.loadtxt(url, delimiter=',',usecols=columnas)"
      ],
      "metadata": {
        "id": "ETdvhGiIXYtx"
      },
      "execution_count": 27,
      "outputs": []
    },
    {
      "cell_type": "code",
      "source": [
        "#Explicación intermedia\n",
        "import numpy as np\n",
        "\n",
        "# crea una lista\n",
        "lista = [1, 2, 3, 4, 5]\n",
        "\n",
        "# convierte la lista en un array Numpy\n",
        "array = np.array(lista)\n",
        "\n",
        "print(\"Lista: \", lista)\n",
        "print(\"Array: \", array)"
      ],
      "metadata": {
        "colab": {
          "base_uri": "https://localhost:8080/"
        },
        "id": "8b-mOYiFJK9x",
        "outputId": "ee365e37-1a79-419e-d269-7e2266d3ff12"
      },
      "execution_count": 7,
      "outputs": [
        {
          "output_type": "stream",
          "name": "stdout",
          "text": [
            "Lista:  [1, 2, 3, 4, 5]\n",
            "Array:  [1 2 3 4 5]\n"
          ]
        }
      ]
    },
    {
      "cell_type": "code",
      "source": [
        "#comparación tiempo de procesamiento entre lista y array Numpy\n",
        "import numpy as np\n",
        "import time\n",
        "\n",
        "# crea una lista con 1000000 elementos\n",
        "lista = list(range(1000000))\n",
        "\n",
        "# convierte la lista en un array Numpy\n",
        "array = np.array(lista)\n",
        "\n",
        "# comienza a medir el tiempo para la operación con la lista\n",
        "start_time = time.time()\n",
        "\n",
        "# realiza la operación de elevar al cuadrado cada elemento de la lista\n",
        "lista_cuadrado = [i**2 for i in lista]\n",
        "\n",
        "# detiene el cronómetro\n",
        "tiempo_lista = time.time() - start_time\n",
        "\n",
        "# comienza a medir el tiempo para la operación con el array\n",
        "start_time = time.time()\n",
        "\n",
        "# realiza la operación de elevar al cuadrado cada elemento del array\n",
        "array_cuadrado = array**2\n",
        "\n",
        "# detiene el cronómetro\n",
        "tiempo_array = time.time() - start_time\n",
        "\n",
        "print(\"Tiempo de la operación con la lista: \", tiempo_lista)\n",
        "print(\"Tiempo de la operación con el array: \", tiempo_array)"
      ],
      "metadata": {
        "colab": {
          "base_uri": "https://localhost:8080/"
        },
        "id": "820h7O4QJrng",
        "outputId": "bfcf7fdc-caa3-47ea-87da-3d3275589434"
      },
      "execution_count": 8,
      "outputs": [
        {
          "output_type": "stream",
          "name": "stdout",
          "text": [
            "Tiempo de la operación con la lista:  0.07990527153015137\n",
            "Tiempo de la operación con el array:  0.006613492965698242\n"
          ]
        }
      ]
    },
    {
      "cell_type": "code",
      "source": [
        "#Manipulando la información del csv de\n",
        "datos\n",
        "#Identificar la cantidad de dimensiones\n",
        "datos.ndim\n",
        "#Cuantas columnas y filas\n",
        "datos.shape\n",
        "#Convertir las filas en columnas trasnponer\n",
        "datos_transpuesto=datos.T\n",
        "datos_transpuesto"
      ],
      "metadata": {
        "colab": {
          "base_uri": "https://localhost:8080/"
        },
        "id": "DtPRtPlPMFLX",
        "outputId": "316586d9-08b0-4164-8316-b84f6268e2b6"
      },
      "execution_count": 28,
      "outputs": [
        {
          "output_type": "execute_result",
          "data": {
            "text/plain": [
              "array([[  1.2013,  79.72  ,  42.67  ,  62.55  ,  48.26  ,  71.25  ],\n",
              "       [  2.2013,  81.08  ,  44.37  ,  62.73  ,  51.01  ,  71.35  ],\n",
              "       [  3.2013,  79.68  ,  44.73  ,  63.43  ,  50.91  ,  70.9   ],\n",
              "       [  4.2013,  79.8   ,  46.75  ,  63.83  ,  53.94  ,  71.92  ],\n",
              "       [  5.2013,  80.63  ,      nan,  66.06  ,  61.27  ,  72.91  ],\n",
              "       [  6.2013,  80.8   ,  51.59  ,  69.22  ,  65.44  ,  74.39  ],\n",
              "       [  7.2013,  80.28  ,  57.8   ,  72.07  ,  56.51  ,  73.1   ],\n",
              "       [  8.2013,  78.99  ,  62.14  ,  69.31  ,  53.    ,  70.24  ],\n",
              "       [  9.2013,  76.77  ,  56.76  ,  65.18  ,  43.87  ,  69.12  ],\n",
              "       [ 10.2013,  76.09  ,  50.85  ,  62.13  ,  42.12  ,  68.98  ],\n",
              "       [ 11.2013,  76.36  ,  46.43  ,  64.17  ,  43.98  ,  68.58  ],\n",
              "       [ 12.2013,  77.16  ,  46.73  ,  65.5   ,  44.66  ,  69.5   ],\n",
              "       [  1.2014,  77.5   ,  45.85  ,  66.85  ,  47.73  ,  70.14  ],\n",
              "       [  2.2014,  79.03  ,  49.25  ,  68.38  ,  52.31  ,  70.58  ],\n",
              "       [  3.2014,  80.28  ,  48.14  ,  68.77  ,  56.8   ,  70.78  ],\n",
              "       [  4.2014,  80.05  ,  49.18  ,  69.32  ,  51.15  ,  72.78  ],\n",
              "       [  5.2014,  78.11  ,  49.49  ,  69.77  ,  54.63  ,  72.84  ],\n",
              "       [  6.2014,  76.9   ,  49.83  ,  70.17  ,  55.8   ,  74.74  ],\n",
              "       [  7.2014,  77.68  ,  49.14  ,  70.76  ,  57.31  ,  76.43  ],\n",
              "       [  8.2014,  76.05  ,  63.21  ,  75.16  ,  53.81  ,  81.2   ],\n",
              "       [  9.2014,  75.53  ,  61.2   ,  74.86  ,  55.5   ,  82.04  ],\n",
              "       [ 10.2014,  73.39  ,  60.34  ,  71.47  ,  52.95  ,  79.67  ],\n",
              "       [ 11.2014,  78.36  ,  62.2   ,  76.08  ,  53.29  ,  81.25  ],\n",
              "       [ 12.2014,  89.16  ,  74.2   ,  82.11  ,  54.86  ,  85.88  ],\n",
              "       [  1.2015, 105.43  ,  75.32  ,  94.63  ,  71.72  ,  91.35  ],\n",
              "       [  2.2015, 104.82  ,  75.92  ,  98.54  ,  74.36  , 101.32  ],\n",
              "       [  3.2015, 101.15  ,  72.89  ,  97.84  ,  78.25  , 102.45  ],\n",
              "       [  4.2015,  98.63  ,  74.85  ,  94.54  ,  70.63  ,  98.18  ],\n",
              "       [  5.2015,  99.96  ,  92.19  ,  97.88  ,  77.06  , 105.1   ],\n",
              "       [  6.2015,  97.29  ,  99.7   ,  97.73  ,  81.52  , 104.85  ],\n",
              "       [  7.2015,  98.64  , 102.78  , 100.89  ,  84.12  , 111.48  ],\n",
              "       [  8.2015, 104.26  ,  92.67  , 104.88  ,  83.33  , 118.51  ],\n",
              "       [  9.2015, 102.63  ,  90.63  , 104.39  ,  66.98  , 118.92  ],\n",
              "       [ 10.2015,  98.64  ,  83.31  , 101.9   ,  62.04  , 109.87  ],\n",
              "       [ 11.2015,  97.17  ,  75.5   ,  98.99  ,  59.79  , 105.22  ],\n",
              "       [ 12.2015,  98.09  ,  74.6   ,  99.42  ,  66.06  , 105.45  ],\n",
              "       [  1.2016, 103.07  ,  76.94  , 106.37  ,  71.99  , 115.61  ],\n",
              "       [  2.2016, 110.26  ,  83.04  , 113.89  ,  76.79  , 116.61  ],\n",
              "       [  3.2016, 110.84  ,  80.74  , 114.78  ,  80.98  , 120.39  ],\n",
              "       [  4.2016, 112.28  ,  80.29  , 115.6   ,  89.18  , 119.2   ],\n",
              "       [  5.2016, 111.1   ,  82.82  , 115.89  ,  92.71  , 119.92  ],\n",
              "       [  6.2016, 110.06  ,  86.29  , 117.66  ,  94.85  , 120.57  ],\n",
              "       [  7.2016, 113.7   ,  87.41  , 118.27  ,  99.18  , 123.37  ],\n",
              "       [  8.2016, 112.88  ,  85.1   , 114.19  ,  86.33  , 121.39  ],\n",
              "       [  9.2016, 102.08  ,  78.08  , 101.81  ,  71.94  , 118.16  ],\n",
              "       [ 10.2016,  95.54  ,  76.06  ,  91.62  ,  67.18  , 108.84  ],\n",
              "       [ 11.2016,  91.33  ,  69.23  ,  90.15  ,  62.98  , 100.78  ],\n",
              "       [ 12.2016,  89.99  ,  69.04  ,  90.55  ,  69.45  ,  99.92  ],\n",
              "       [  1.2017,  91.44  ,  64.48  ,  92.3   ,  67.56  , 100.65  ],\n",
              "       [  2.2017,  93.51  ,  65.73  ,  91.75  ,  67.92  ,  98.92  ],\n",
              "       [  3.2017,  93.6   ,  67.2   ,  92.    ,  68.4   , 100.31  ],\n",
              "       [  4.2017,  93.78  ,  70.25  ,  92.57  ,  67.97  ,  96.41  ],\n",
              "       [  5.2017,  98.91  ,  82.59  , 100.28  ,  76.33  , 101.24  ],\n",
              "       [  6.2017, 121.76  ,  92.12  , 114.33  ,  95.79  , 118.7   ],\n",
              "       [  7.2017, 129.6   , 100.82  , 122.17  , 112.36  , 133.29  ],\n",
              "       [  8.2017, 127.9   ,  95.23  , 117.83  ,  82.03  , 130.31  ],\n",
              "       [  9.2017, 114.55  ,  89.51  , 112.49  ,  73.83  , 122.4   ],\n",
              "       [ 10.2017, 101.88  ,  82.84  ,  93.7   ,  66.12  , 104.98  ],\n",
              "       [ 11.2017,  99.09  ,  82.3   ,  97.17  ,  63.24  , 107.54  ],\n",
              "       [ 12.2017, 103.35  ,  83.76  ,  95.64  ,  63.98  , 110.74  ],\n",
              "       [  1.2018, 106.58  ,  84.72  , 102.21  ,  69.1   , 110.51  ],\n",
              "       [  2.2018, 108.    ,  83.91  , 107.58  ,  70.04  , 111.46  ],\n",
              "       [  3.2018, 114.95  ,  99.14  , 110.48  ,  80.03  , 113.42  ],\n",
              "       [  4.2018, 121.17  , 101.6   , 117.73  ,  87.92  , 118.15  ],\n",
              "       [  5.2018, 122.48  , 113.03  , 122.07  ,  97.07  , 114.    ],\n",
              "       [  6.2018, 127.58  , 119.54  , 128.58  , 106.52  , 124.91  ],\n",
              "       [  7.2018, 131.89  , 118.09  , 131.12  , 108.93  , 126.06  ],\n",
              "       [  8.2018, 129.36  , 107.32  , 127.08  ,  95.17  , 123.3   ],\n",
              "       [  9.2018, 104.26  ,  82.6   , 110.99  ,  74.31  , 111.61  ],\n",
              "       [ 10.2018,  93.45  ,  77.4   ,  97.43  ,  62.63  ,  98.82  ],\n",
              "       [ 11.2018,  92.93  ,  71.77  ,  92.05  ,  69.92  ,  97.47  ],\n",
              "       [ 12.2018,  96.15  ,  71.25  ,  93.21  ,  70.58  , 103.01  ],\n",
              "       [  1.2019,  99.1   ,  71.35  ,  98.58  ,  74.63  , 109.36  ],\n",
              "       [  2.2019, 103.    ,  73.62  , 100.23  ,  78.69  , 104.79  ],\n",
              "       [  3.2019, 103.31  ,  76.2   , 102.09  ,  81.82  , 105.09  ],\n",
              "       [  4.2019, 103.01  ,  74.15  , 101.73  ,  82.36  , 103.16  ],\n",
              "       [  5.2019, 107.37  ,  75.67  , 107.28  ,  89.44  , 106.52  ],\n",
              "       [  6.2019, 116.91  ,  79.2   , 115.35  , 102.01  , 121.68  ],\n",
              "       [  7.2019, 125.29  ,  80.85  , 123.03  , 116.12  , 125.32  ],\n",
              "       [  8.2019, 123.94  ,  85.33  , 123.08  ,  92.06  , 123.41  ],\n",
              "       [  9.2019, 113.03  ,  75.02  , 109.71  ,  82.7   , 108.48  ],\n",
              "       [ 10.2019, 102.19  ,  77.95  ,  97.22  ,  66.62  ,  98.73  ],\n",
              "       [ 11.2019,  97.83  ,  78.98  ,  95.75  ,  68.11  ,  96.25  ],\n",
              "       [ 12.2019, 101.07  ,  76.55  ,  97.09  ,  73.48  , 100.12  ],\n",
              "       [  1.202 , 103.44  ,  74.89  ,  98.18  ,  82.04  , 101.29  ],\n",
              "       [  2.202 , 108.23  ,  70.    , 103.1   ,  81.19  , 102.81  ],\n",
              "       [  3.202 , 110.28  ,  81.53  , 110.6   ,  95.05  , 108.53  ]])"
            ]
          },
          "metadata": {},
          "execution_count": 28
        }
      ]
    },
    {
      "cell_type": "markdown",
      "source": [
        "Ha llegado el momento de poner a prueba los conocimientos adquiridos durante la lección. Para ello, vamos a utilizar otro conjunto de datos en un desafío que se desarrollará a lo largo del curso. Este conjunto de datos es una versión modificada del archivo disponible en el sitio de Kaggle. https://www.kaggle.com/datasets/joshmcadams/oranges-vs-grapefruit\n",
        "Por lo tanto, utilizaremos el archivo raw disponible en Github.\n",
        "\n",
        "https://gist.githubusercontent.com/ahcamachod/9be09de793dc3bf1e6c3d98eb4e5b1ef/raw/21b85572693200040e11284ef6dcfc3457ec8e11/citrus.csv\n",
        "\n",
        "En esta etapa, debes cargar los datos. Para hacerlo, importa NumPy y utiliza la función loadtxt. Utiliza el enlace de la URL y el parámetro usecols para omitir la primera columna. Puedes usar np.arange para crear la secuencia de números que representan las columnas. Por último, también es necesario incluir el parámetro skiprows=1 para que la primera línea de texto se omita al leer el archivo."
      ],
      "metadata": {
        "id": "7qIbxn7gUsRy"
      }
    },
    {
      "cell_type": "code",
      "source": [
        "import numpy as np\n",
        "url2 ='https://gist.githubusercontent.com/ahcamachod/9be09de793dc3bf1e6c3d98eb4e5b1ef/raw/21b85572693200040e11284ef6dcfc3457ec8e11/citrus.csv'\n",
        "datos2 = np.loadtxt(url2, delimiter=',',skiprows=1, usecols=np.arange(1,6,1))\n",
        "datos2"
      ],
      "metadata": {
        "colab": {
          "base_uri": "https://localhost:8080/"
        },
        "id": "2sW6Oy7OUwsS",
        "outputId": "688cea36-8877-4949-b2f5-abf4f0746a71"
      },
      "execution_count": 24,
      "outputs": [
        {
          "output_type": "execute_result",
          "data": {
            "text/plain": [
              "array([[  2.96,  86.76, 172.  ,  85.  ,   2.  ],\n",
              "       [  3.91,  88.05, 166.  ,  78.  ,   3.  ],\n",
              "       [  4.42,  95.17, 156.  ,  81.  ,   2.  ],\n",
              "       ...,\n",
              "       [ 15.59, 256.5 , 168.  ,  82.  ,  20.  ],\n",
              "       [ 15.92, 260.14, 142.  ,  72.  ,  11.  ],\n",
              "       [ 16.45, 261.51, 152.  ,  74.  ,   2.  ]])"
            ]
          },
          "metadata": {},
          "execution_count": 24
        }
      ]
    },
    {
      "cell_type": "code",
      "source": [
        "import numpy as np\n",
        "url2 ='https://gist.githubusercontent.com/ahcamachod/9be09de793dc3bf1e6c3d98eb4e5b1ef/raw/21b85572693200040e11284ef6dcfc3457ec8e11/citrus.csv'\n",
        "datos = np.loadtxt(url2, delimiter=',', usecols=np.arange(1,6,1),skiprows=1)\n",
        "datos"
      ],
      "metadata": {
        "colab": {
          "base_uri": "https://localhost:8080/"
        },
        "id": "1A-RL5YFV5lJ",
        "outputId": "ce2ee6e9-acf7-4ef2-9bd4-0f1eadcaeab3"
      },
      "execution_count": 25,
      "outputs": [
        {
          "output_type": "execute_result",
          "data": {
            "text/plain": [
              "array([[  2.96,  86.76, 172.  ,  85.  ,   2.  ],\n",
              "       [  3.91,  88.05, 166.  ,  78.  ,   3.  ],\n",
              "       [  4.42,  95.17, 156.  ,  81.  ,   2.  ],\n",
              "       ...,\n",
              "       [ 15.59, 256.5 , 168.  ,  82.  ,  20.  ],\n",
              "       [ 15.92, 260.14, 142.  ,  72.  ,  11.  ],\n",
              "       [ 16.45, 261.51, 152.  ,  74.  ,   2.  ]])"
            ]
          },
          "metadata": {},
          "execution_count": 25
        }
      ]
    },
    {
      "cell_type": "markdown",
      "source": [
        "**Visualización y Selección**"
      ],
      "metadata": {
        "id": "NUcRvJZrY09N"
      }
    },
    {
      "cell_type": "code",
      "source": [
        "#Obtener todas las fechas para eso se recorren la matriz primero todas las filas y despues las columnas\n",
        "fechas = datos_transpuesto [:,0] # Los dos puntos trae todas las filas\n",
        "fechas"
      ],
      "metadata": {
        "colab": {
          "base_uri": "https://localhost:8080/"
        },
        "id": "89eBenKgY8aD",
        "outputId": "67a09917-2f69-485e-fc15-4ed97879c5ec"
      },
      "execution_count": 29,
      "outputs": [
        {
          "output_type": "execute_result",
          "data": {
            "text/plain": [
              "array([ 1.2013,  2.2013,  3.2013,  4.2013,  5.2013,  6.2013,  7.2013,\n",
              "        8.2013,  9.2013, 10.2013, 11.2013, 12.2013,  1.2014,  2.2014,\n",
              "        3.2014,  4.2014,  5.2014,  6.2014,  7.2014,  8.2014,  9.2014,\n",
              "       10.2014, 11.2014, 12.2014,  1.2015,  2.2015,  3.2015,  4.2015,\n",
              "        5.2015,  6.2015,  7.2015,  8.2015,  9.2015, 10.2015, 11.2015,\n",
              "       12.2015,  1.2016,  2.2016,  3.2016,  4.2016,  5.2016,  6.2016,\n",
              "        7.2016,  8.2016,  9.2016, 10.2016, 11.2016, 12.2016,  1.2017,\n",
              "        2.2017,  3.2017,  4.2017,  5.2017,  6.2017,  7.2017,  8.2017,\n",
              "        9.2017, 10.2017, 11.2017, 12.2017,  1.2018,  2.2018,  3.2018,\n",
              "        4.2018,  5.2018,  6.2018,  7.2018,  8.2018,  9.2018, 10.2018,\n",
              "       11.2018, 12.2018,  1.2019,  2.2019,  3.2019,  4.2019,  5.2019,\n",
              "        6.2019,  7.2019,  8.2019,  9.2019, 10.2019, 11.2019, 12.2019,\n",
              "        1.202 ,  2.202 ,  3.202 ])"
            ]
          },
          "metadata": {},
          "execution_count": 29
        }
      ]
    },
    {
      "cell_type": "code",
      "source": [
        "#Obtener los precios de la manzanas\n",
        "precios = datos_transpuesto [:, 1:] # Para iterar sobre las columnas 1 a 6 se puede dejar solo los dos puntos pues se incluyen\n",
        "precios"
      ],
      "metadata": {
        "colab": {
          "base_uri": "https://localhost:8080/"
        },
        "id": "qhyQfTI_a0_6",
        "outputId": "68c31eda-3677-4d4a-85f0-e199107a2147"
      },
      "execution_count": 30,
      "outputs": [
        {
          "output_type": "execute_result",
          "data": {
            "text/plain": [
              "array([[ 79.72,  42.67,  62.55,  48.26,  71.25],\n",
              "       [ 81.08,  44.37,  62.73,  51.01,  71.35],\n",
              "       [ 79.68,  44.73,  63.43,  50.91,  70.9 ],\n",
              "       [ 79.8 ,  46.75,  63.83,  53.94,  71.92],\n",
              "       [ 80.63,    nan,  66.06,  61.27,  72.91],\n",
              "       [ 80.8 ,  51.59,  69.22,  65.44,  74.39],\n",
              "       [ 80.28,  57.8 ,  72.07,  56.51,  73.1 ],\n",
              "       [ 78.99,  62.14,  69.31,  53.  ,  70.24],\n",
              "       [ 76.77,  56.76,  65.18,  43.87,  69.12],\n",
              "       [ 76.09,  50.85,  62.13,  42.12,  68.98],\n",
              "       [ 76.36,  46.43,  64.17,  43.98,  68.58],\n",
              "       [ 77.16,  46.73,  65.5 ,  44.66,  69.5 ],\n",
              "       [ 77.5 ,  45.85,  66.85,  47.73,  70.14],\n",
              "       [ 79.03,  49.25,  68.38,  52.31,  70.58],\n",
              "       [ 80.28,  48.14,  68.77,  56.8 ,  70.78],\n",
              "       [ 80.05,  49.18,  69.32,  51.15,  72.78],\n",
              "       [ 78.11,  49.49,  69.77,  54.63,  72.84],\n",
              "       [ 76.9 ,  49.83,  70.17,  55.8 ,  74.74],\n",
              "       [ 77.68,  49.14,  70.76,  57.31,  76.43],\n",
              "       [ 76.05,  63.21,  75.16,  53.81,  81.2 ],\n",
              "       [ 75.53,  61.2 ,  74.86,  55.5 ,  82.04],\n",
              "       [ 73.39,  60.34,  71.47,  52.95,  79.67],\n",
              "       [ 78.36,  62.2 ,  76.08,  53.29,  81.25],\n",
              "       [ 89.16,  74.2 ,  82.11,  54.86,  85.88],\n",
              "       [105.43,  75.32,  94.63,  71.72,  91.35],\n",
              "       [104.82,  75.92,  98.54,  74.36, 101.32],\n",
              "       [101.15,  72.89,  97.84,  78.25, 102.45],\n",
              "       [ 98.63,  74.85,  94.54,  70.63,  98.18],\n",
              "       [ 99.96,  92.19,  97.88,  77.06, 105.1 ],\n",
              "       [ 97.29,  99.7 ,  97.73,  81.52, 104.85],\n",
              "       [ 98.64, 102.78, 100.89,  84.12, 111.48],\n",
              "       [104.26,  92.67, 104.88,  83.33, 118.51],\n",
              "       [102.63,  90.63, 104.39,  66.98, 118.92],\n",
              "       [ 98.64,  83.31, 101.9 ,  62.04, 109.87],\n",
              "       [ 97.17,  75.5 ,  98.99,  59.79, 105.22],\n",
              "       [ 98.09,  74.6 ,  99.42,  66.06, 105.45],\n",
              "       [103.07,  76.94, 106.37,  71.99, 115.61],\n",
              "       [110.26,  83.04, 113.89,  76.79, 116.61],\n",
              "       [110.84,  80.74, 114.78,  80.98, 120.39],\n",
              "       [112.28,  80.29, 115.6 ,  89.18, 119.2 ],\n",
              "       [111.1 ,  82.82, 115.89,  92.71, 119.92],\n",
              "       [110.06,  86.29, 117.66,  94.85, 120.57],\n",
              "       [113.7 ,  87.41, 118.27,  99.18, 123.37],\n",
              "       [112.88,  85.1 , 114.19,  86.33, 121.39],\n",
              "       [102.08,  78.08, 101.81,  71.94, 118.16],\n",
              "       [ 95.54,  76.06,  91.62,  67.18, 108.84],\n",
              "       [ 91.33,  69.23,  90.15,  62.98, 100.78],\n",
              "       [ 89.99,  69.04,  90.55,  69.45,  99.92],\n",
              "       [ 91.44,  64.48,  92.3 ,  67.56, 100.65],\n",
              "       [ 93.51,  65.73,  91.75,  67.92,  98.92],\n",
              "       [ 93.6 ,  67.2 ,  92.  ,  68.4 , 100.31],\n",
              "       [ 93.78,  70.25,  92.57,  67.97,  96.41],\n",
              "       [ 98.91,  82.59, 100.28,  76.33, 101.24],\n",
              "       [121.76,  92.12, 114.33,  95.79, 118.7 ],\n",
              "       [129.6 , 100.82, 122.17, 112.36, 133.29],\n",
              "       [127.9 ,  95.23, 117.83,  82.03, 130.31],\n",
              "       [114.55,  89.51, 112.49,  73.83, 122.4 ],\n",
              "       [101.88,  82.84,  93.7 ,  66.12, 104.98],\n",
              "       [ 99.09,  82.3 ,  97.17,  63.24, 107.54],\n",
              "       [103.35,  83.76,  95.64,  63.98, 110.74],\n",
              "       [106.58,  84.72, 102.21,  69.1 , 110.51],\n",
              "       [108.  ,  83.91, 107.58,  70.04, 111.46],\n",
              "       [114.95,  99.14, 110.48,  80.03, 113.42],\n",
              "       [121.17, 101.6 , 117.73,  87.92, 118.15],\n",
              "       [122.48, 113.03, 122.07,  97.07, 114.  ],\n",
              "       [127.58, 119.54, 128.58, 106.52, 124.91],\n",
              "       [131.89, 118.09, 131.12, 108.93, 126.06],\n",
              "       [129.36, 107.32, 127.08,  95.17, 123.3 ],\n",
              "       [104.26,  82.6 , 110.99,  74.31, 111.61],\n",
              "       [ 93.45,  77.4 ,  97.43,  62.63,  98.82],\n",
              "       [ 92.93,  71.77,  92.05,  69.92,  97.47],\n",
              "       [ 96.15,  71.25,  93.21,  70.58, 103.01],\n",
              "       [ 99.1 ,  71.35,  98.58,  74.63, 109.36],\n",
              "       [103.  ,  73.62, 100.23,  78.69, 104.79],\n",
              "       [103.31,  76.2 , 102.09,  81.82, 105.09],\n",
              "       [103.01,  74.15, 101.73,  82.36, 103.16],\n",
              "       [107.37,  75.67, 107.28,  89.44, 106.52],\n",
              "       [116.91,  79.2 , 115.35, 102.01, 121.68],\n",
              "       [125.29,  80.85, 123.03, 116.12, 125.32],\n",
              "       [123.94,  85.33, 123.08,  92.06, 123.41],\n",
              "       [113.03,  75.02, 109.71,  82.7 , 108.48],\n",
              "       [102.19,  77.95,  97.22,  66.62,  98.73],\n",
              "       [ 97.83,  78.98,  95.75,  68.11,  96.25],\n",
              "       [101.07,  76.55,  97.09,  73.48, 100.12],\n",
              "       [103.44,  74.89,  98.18,  82.04, 101.29],\n",
              "       [108.23,  70.  , 103.1 ,  81.19, 102.81],\n",
              "       [110.28,  81.53, 110.6 ,  95.05, 108.53]])"
            ]
          },
          "metadata": {},
          "execution_count": 30
        }
      ]
    }
  ]
}